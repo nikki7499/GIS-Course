{
  "nbformat": 4,
  "nbformat_minor": 0,
  "metadata": {
    "colab": {
      "name": "0_GetDataAndTools.ipynb",
      "provenance": [],
      "collapsed_sections": [],
      "include_colab_link": true
    },
    "kernelspec": {
      "name": "python3",
      "display_name": "Python 3"
    }
  },
  "cells": [
    {
      "cell_type": "markdown",
      "metadata": {
        "id": "view-in-github",
        "colab_type": "text"
      },
      "source": [
        "<a href=\"https://colab.research.google.com/github/nikki7499/GIS-Course/blob/master/0_GetDataAndTools.ipynb\" target=\"_parent\"><img src=\"https://colab.research.google.com/assets/colab-badge.svg\" alt=\"Open In Colab\"/></a>"
      ]
    },
    {
      "cell_type": "markdown",
      "metadata": {
        "id": "COZLcSnE2k30",
        "colab_type": "text"
      },
      "source": [
        "# What's a notebook and how does it work?\n",
        "\n",
        "These notebooks have two types of cells. There are text cells, which I use to explain things to you, and code cells which we will use to do things\n",
        "\n",
        "Text cells are written in a language called Markdown.\n",
        "\n",
        "Code cells are written in a language called python. In this course we'll mostly be using python. As you know, stereotypically archaeologists hate snakes. Python is the exception to this.\n",
        "\n",
        "You can add text or code cells to your version of the notebook. To make things happen in a code cell you can click on the cell and then type 'ctrl + enter' or push the play button that will appear on the left.\n",
        "\n",
        "\n",
        "# What we are doing\n",
        "In this introductory exercise, you will get some tools you need to work with simple spatial data and you will also open up some data. To get started, we will get the tools we need. We will always start a practical exercise in a notebook like this."
      ]
    },
    {
      "cell_type": "code",
      "metadata": {
        "id": "vMmtCROs70ej",
        "colab_type": "code",
        "colab": {}
      },
      "source": [
        "#start by importing a tool you want. Pandas is a basic tool for working with text and spreadsheet type data. Just say 'import' and the name of the tool\n",
        "import pandas as pd\n"
      ],
      "execution_count": 0,
      "outputs": []
    },
    {
      "cell_type": "markdown",
      "metadata": {
        "id": "Gy9N6RBt4ISP",
        "colab_type": "text"
      },
      "source": [
        "## Now try to import another tool\n",
        "Add another code cell below this one and figure out how to import matplotlib"
      ]
    },
    {
      "cell_type": "code",
      "metadata": {
        "id": "VbgElRvD0YPK",
        "colab_type": "code",
        "colab": {}
      },
      "source": [
        "import matplotlib"
      ],
      "execution_count": 0,
      "outputs": []
    },
    {
      "cell_type": "markdown",
      "metadata": {
        "id": "XxJMOyFU4dbQ",
        "colab_type": "text"
      },
      "source": [
        "## Now try to import another tool\n",
        "Add another code cell below this one and try to import geopandas and give it the abbreviation 'gpd'"
      ]
    },
    {
      "cell_type": "code",
      "metadata": {
        "id": "YgPNKDBC38TQ",
        "colab_type": "code",
        "outputId": "39373c59-35fd-4c11-bf17-0aa558754ee0",
        "colab": {
          "base_uri": "https://localhost:8080/",
          "height": 598
        }
      },
      "source": [
        "# Odds are that didn't work... Some tools need an additional 'install' step. \n",
        "# This happens when the tooll isn't in the colab environment in the cloud already.\n",
        "# If something doesn't import, I pretty much always try to '!pip install' it.\n",
        "# pip is python's tool for getting tools. Very meta.\n",
        "!pip install geopandas\n",
        "import geopandas as gpd"
      ],
      "execution_count": 0,
      "outputs": [
        {
          "output_type": "stream",
          "text": [
            "Collecting geopandas\n",
            "\u001b[?25l  Downloading https://files.pythonhosted.org/packages/51/10/9b2f2f6e35cc0e427f43faf59c56931709996ad2ffe4440fda2f5c53554f/geopandas-0.6.0-py2.py3-none-any.whl (918kB)\n",
            "\u001b[K     |████████████████████████████████| 921kB 2.8MB/s \n",
            "\u001b[?25hRequirement already satisfied: shapely in /usr/local/lib/python3.6/dist-packages (from geopandas) (1.6.4.post2)\n",
            "Collecting fiona (from geopandas)\n",
            "\u001b[?25l  Downloading https://files.pythonhosted.org/packages/1e/cf/a1f22d87223cb4f48beecf4de6eb59e5261a7d0d073489bbe7cfe6514ae3/Fiona-1.8.8-1-cp36-cp36m-manylinux1_x86_64.whl (11.9MB)\n",
            "\u001b[K     |████████████████████████████████| 11.9MB 42.9MB/s \n",
            "\u001b[?25hCollecting pyproj (from geopandas)\n",
            "\u001b[?25l  Downloading https://files.pythonhosted.org/packages/7a/b1/ab67ad924770e1c1432fa0953a665b8ea193b60c7494457b69da052d6e83/pyproj-2.4.0-cp36-cp36m-manylinux1_x86_64.whl (10.1MB)\n",
            "\u001b[K     |████████████████████████████████| 10.1MB 34.6MB/s \n",
            "\u001b[?25hRequirement already satisfied: pandas>=0.23.0 in /usr/local/lib/python3.6/dist-packages (from geopandas) (0.24.2)\n",
            "Requirement already satisfied: attrs>=17 in /usr/local/lib/python3.6/dist-packages (from fiona->geopandas) (19.1.0)\n",
            "Collecting click-plugins>=1.0 (from fiona->geopandas)\n",
            "  Downloading https://files.pythonhosted.org/packages/e9/da/824b92d9942f4e472702488857914bdd50f73021efea15b4cad9aca8ecef/click_plugins-1.1.1-py2.py3-none-any.whl\n",
            "Collecting cligj>=0.5 (from fiona->geopandas)\n",
            "  Downloading https://files.pythonhosted.org/packages/e4/be/30a58b4b0733850280d01f8bd132591b4668ed5c7046761098d665ac2174/cligj-0.5.0-py3-none-any.whl\n",
            "Requirement already satisfied: click<8,>=4.0 in /usr/local/lib/python3.6/dist-packages (from fiona->geopandas) (7.0)\n",
            "Requirement already satisfied: six>=1.7 in /usr/local/lib/python3.6/dist-packages (from fiona->geopandas) (1.12.0)\n",
            "Collecting munch (from fiona->geopandas)\n",
            "  Downloading https://files.pythonhosted.org/packages/68/f4/260ec98ea840757a0da09e0ed8135333d59b8dfebe9752a365b04857660a/munch-2.3.2.tar.gz\n",
            "Requirement already satisfied: pytz>=2011k in /usr/local/lib/python3.6/dist-packages (from pandas>=0.23.0->geopandas) (2018.9)\n",
            "Requirement already satisfied: python-dateutil>=2.5.0 in /usr/local/lib/python3.6/dist-packages (from pandas>=0.23.0->geopandas) (2.5.3)\n",
            "Requirement already satisfied: numpy>=1.12.0 in /usr/local/lib/python3.6/dist-packages (from pandas>=0.23.0->geopandas) (1.16.5)\n",
            "Building wheels for collected packages: munch\n",
            "  Building wheel for munch (setup.py) ... \u001b[?25l\u001b[?25hdone\n",
            "  Created wheel for munch: filename=munch-2.3.2-py2.py3-none-any.whl size=6614 sha256=f12e48f50c1f0775d7c0b9693af5f46f1243d799548598105e70b3d467e035c5\n",
            "  Stored in directory: /root/.cache/pip/wheels/db/bf/bc/06a3e1bfe0ab27d2e720ceb3cff3159398d92644c0cec2c125\n",
            "Successfully built munch\n",
            "Installing collected packages: click-plugins, cligj, munch, fiona, pyproj, geopandas\n",
            "Successfully installed click-plugins-1.1.1 cligj-0.5.0 fiona-1.8.8 geopandas-0.6.0 munch-2.3.2 pyproj-2.4.0\n"
          ],
          "name": "stdout"
        }
      ]
    },
    {
      "cell_type": "markdown",
      "metadata": {
        "id": "hBYtz1065Hzl",
        "colab_type": "text"
      },
      "source": [
        "You now have three tools. Whenever you need more tools, import them. \n",
        "\n",
        "## Now you need data.\n",
        "\n",
        "You can see some geojson (vector for the internet) data from Canmore that represents locations of sites on Shetland as points with descriptive attributes [here](http://ropitz.github.io/digitalantiquity/data/CanmoreShetlandPoints.geojson)\n",
        "\n",
        "Have a look and identify the coordinates (spatial data), attributes, and coordinate system EPSG code.\n",
        "\n",
        "Write an example of each one in a new text field below this one in your notebook. "
      ]
    },
    {
      "cell_type": "markdown",
      "metadata": {
        "id": "xHidimvO6Sll",
        "colab_type": "text"
      },
      "source": [
        "**Import** the data into the notebook by telling the notebook the URL (web address) where the data is located and asking it to read that file using the geopandas tool. \n",
        "\n",
        "**Give the file a name** within the notebook. Here I've called it 'df'"
      ]
    },
    {
      "cell_type": "code",
      "metadata": {
        "id": "ehdvcH7l3tWx",
        "colab_type": "code",
        "colab": {}
      },
      "source": [
        "\n",
        "url = \"http://ropitz.github.io/digitalantiquity/data/CanmoreShetlandPoints.geojson\"\n",
        "df = gpd.read_file(url)"
      ],
      "execution_count": 0,
      "outputs": []
    },
    {
      "cell_type": "markdown",
      "metadata": {
        "id": "IKFBwPHu7Ivp",
        "colab_type": "text"
      },
      "source": [
        "## How do you see what's in your data?\n",
        "\n",
        "The command .head() will show you the first part of any file in a notebook."
      ]
    },
    {
      "cell_type": "code",
      "metadata": {
        "id": "yuxHVE-V7GG4",
        "colab_type": "code",
        "outputId": "8c526a9c-da0e-4acf-b8a5-18289e316566",
        "colab": {
          "base_uri": "https://localhost:8080/",
          "height": 573
        }
      },
      "source": [
        "# go ahead and look at the first few lines of the file. Note this is slightly easier to read than the raw geojson\n",
        "df.head()"
      ],
      "execution_count": 0,
      "outputs": [
        {
          "output_type": "execute_result",
          "data": {
            "text/html": [
              "<div>\n",
              "<style scoped>\n",
              "    .dataframe tbody tr th:only-of-type {\n",
              "        vertical-align: middle;\n",
              "    }\n",
              "\n",
              "    .dataframe tbody tr th {\n",
              "        vertical-align: top;\n",
              "    }\n",
              "\n",
              "    .dataframe thead th {\n",
              "        text-align: right;\n",
              "    }\n",
              "</style>\n",
              "<table border=\"1\" class=\"dataframe\">\n",
              "  <thead>\n",
              "    <tr style=\"text-align: right;\">\n",
              "      <th></th>\n",
              "      <th>OBJECTID</th>\n",
              "      <th>CLASS</th>\n",
              "      <th>TYPE</th>\n",
              "      <th>POLYTYPE</th>\n",
              "      <th>POLYCLAS</th>\n",
              "      <th>STATUS</th>\n",
              "      <th>INFO</th>\n",
              "      <th>LINK</th>\n",
              "      <th>SOURCE</th>\n",
              "      <th>X</th>\n",
              "      <th>Y</th>\n",
              "      <th>NOTES</th>\n",
              "      <th>geometry</th>\n",
              "    </tr>\n",
              "  </thead>\n",
              "  <tbody>\n",
              "    <tr>\n",
              "      <th>0</th>\n",
              "      <td>91225</td>\n",
              "      <td>AGRICULTURE AND SUBSISTENCE</td>\n",
              "      <td>PEN (PERIOD UNASSIGNED)</td>\n",
              "      <td>FORM</td>\n",
              "      <td>KNOWN SITE EXTENT</td>\n",
              "      <td>Area of historic environment interest: This ar...</td>\n",
              "      <td>Archaeology: Shetland Amenity Trust</td>\n",
              "      <td>https://canmore.org.uk/site/307620/</td>\n",
              "      <td>HES field survey (point/line/poly)</td>\n",
              "      <td>423277.0</td>\n",
              "      <td>1148999.0</td>\n",
              "      <td></td>\n",
              "      <td>POINT (423277.244 1148999.349)</td>\n",
              "    </tr>\n",
              "    <tr>\n",
              "      <th>1</th>\n",
              "      <td>91306</td>\n",
              "      <td>MONUMENT (BY FORM), DOMESTIC</td>\n",
              "      <td>BROCH (IRON AGE)(POSSIBLE)</td>\n",
              "      <td>DISCOVERY</td>\n",
              "      <td>DISCOVERY AREA</td>\n",
              "      <td>Area of historic environment interest: This ar...</td>\n",
              "      <td>Archaeology: Shetland Amenity Trust</td>\n",
              "      <td>https://canmore.org.uk/site/718/</td>\n",
              "      <td>OS 6\" 1st Ed: 1843-1882 (raster)</td>\n",
              "      <td>430890.0</td>\n",
              "      <td>1144320.0</td>\n",
              "      <td></td>\n",
              "      <td>POINT (430890.123 1144320.499)</td>\n",
              "    </tr>\n",
              "    <tr>\n",
              "      <th>2</th>\n",
              "      <td>92937</td>\n",
              "      <td>AGRICULTURE AND SUBSISTENCE</td>\n",
              "      <td>PLANTICRUB (PERIOD UNASSIGNED), SHEEP SHELTER ...</td>\n",
              "      <td>FORM</td>\n",
              "      <td>KNOWN SITE EXTENT</td>\n",
              "      <td>Area of historic environment interest: This ar...</td>\n",
              "      <td>Archaeology: Shetland Amenity Trust</td>\n",
              "      <td>https://canmore.org.uk/site/308223/</td>\n",
              "      <td>HES field survey (point/line/poly)</td>\n",
              "      <td>424681.0</td>\n",
              "      <td>1150587.0</td>\n",
              "      <td></td>\n",
              "      <td>POINT (424680.870 1150587.033)</td>\n",
              "    </tr>\n",
              "    <tr>\n",
              "      <th>3</th>\n",
              "      <td>92965</td>\n",
              "      <td>AGRICULTURE AND SUBSISTENCE, MONUMENT (BY FORM...</td>\n",
              "      <td>FIELD BOUNDARY(S) (PREHISTORIC), ROUNDHOUSE (P...</td>\n",
              "      <td>FORM</td>\n",
              "      <td>KNOWN SITE EXTENT</td>\n",
              "      <td>Area of historic environment interest: This ar...</td>\n",
              "      <td>Archaeology: Shetland Amenity Trust</td>\n",
              "      <td>https://canmore.org.uk/site/333500/</td>\n",
              "      <td>HES field survey (point/line/poly)</td>\n",
              "      <td>459340.0</td>\n",
              "      <td>1202964.0</td>\n",
              "      <td></td>\n",
              "      <td>POINT (459343.241 1202968.883)</td>\n",
              "    </tr>\n",
              "    <tr>\n",
              "      <th>4</th>\n",
              "      <td>92971</td>\n",
              "      <td>MONUMENT (BY FORM), DOMESTIC</td>\n",
              "      <td>BROCH (IRON AGE)</td>\n",
              "      <td>DISCOVERY</td>\n",
              "      <td>DISCOVERY AREA</td>\n",
              "      <td>Area of historic environment interest: This ar...</td>\n",
              "      <td>Archaeology: Shetland Amenity Trust</td>\n",
              "      <td>https://canmore.org.uk/site/305/</td>\n",
              "      <td>OS 6\" 1st Ed: 1843-1882 (raster)</td>\n",
              "      <td>422420.0</td>\n",
              "      <td>1147800.0</td>\n",
              "      <td></td>\n",
              "      <td>POINT (422426.093 1147812.775)</td>\n",
              "    </tr>\n",
              "  </tbody>\n",
              "</table>\n",
              "</div>"
            ],
            "text/plain": [
              "   OBJECTID  ...                        geometry\n",
              "0     91225  ...  POINT (423277.244 1148999.349)\n",
              "1     91306  ...  POINT (430890.123 1144320.499)\n",
              "2     92937  ...  POINT (424680.870 1150587.033)\n",
              "3     92965  ...  POINT (459343.241 1202968.883)\n",
              "4     92971  ...  POINT (422426.093 1147812.775)\n",
              "\n",
              "[5 rows x 13 columns]"
            ]
          },
          "metadata": {
            "tags": []
          },
          "execution_count": 4
        }
      ]
    },
    {
      "cell_type": "markdown",
      "metadata": {
        "id": "493PX4Ve7rgs",
        "colab_type": "text"
      },
      "source": [
        "## Well, if it's spatial data, you should be able to plot it\n",
        "\n",
        "This is usually fairly easy. For any spatial dataset, just call its name and say .plot()"
      ]
    },
    {
      "cell_type": "code",
      "metadata": {
        "id": "p4CFpEus711c",
        "colab_type": "code",
        "outputId": "bf2fb5f9-ff67-417f-a825-23b50e42cc2d",
        "colab": {
          "base_uri": "https://localhost:8080/",
          "height": 288
        }
      },
      "source": [
        "df.plot()"
      ],
      "execution_count": 0,
      "outputs": [
        {
          "output_type": "execute_result",
          "data": {
            "text/plain": [
              "<matplotlib.axes._subplots.AxesSubplot at 0x7f2960fb0080>"
            ]
          },
          "metadata": {
            "tags": []
          },
          "execution_count": 5
        },
        {
          "output_type": "display_data",
          "data": {
            "image/png": "[encoded data removed]",
            "text/plain": [
              "<Figure size 432x288 with 1 Axes>"
            ]
          },
          "metadata": {
            "tags": []
          }
        }
      ]
    },
    {
      "cell_type": "markdown",
      "metadata": {
        "id": "fF0MquuG_hDH",
        "colab_type": "text"
      },
      "source": [
        "Not very pretty... Next week we'll learn about making pretty maps. "
      ]
    },
    {
      "cell_type": "markdown",
      "metadata": {
        "id": "oZ9cqoIf8Umk",
        "colab_type": "text"
      },
      "source": [
        "## Challenge\n",
        "\n",
        "Go find some other archaeological, read it into the notebook, and plot it. \n",
        "\n",
        "Like the scheduled monuments from York:\n",
        "[https://opendata.arcgis.com/datasets/26857683681542b798ef97708cbdaf61_14.geojson](https://opendata.arcgis.com/datasets/26857683681542b798ef97708cbdaf61_14.geojson)\n",
        "\n",
        "Or know wrecks off the coast of Northern Ireland: [https://www.opendatani.gov.uk/dataset/c5fceed7-b07a-4bc4-a0a0-8c45b9033083/resource/2d8da801-39f7-48b7-81ad-8db58d107962/download/protected_wrecks.geojson](https://www.opendatani.gov.uk/dataset/c5fceed7-b07a-4bc4-a0a0-8c45b9033083/resource/2d8da801-39f7-48b7-81ad-8db58d107962/download/protected_wrecks.geojson)\n",
        "\n",
        "Or any other open data you find in the geojson format..."
      ]
    }
  ]
}